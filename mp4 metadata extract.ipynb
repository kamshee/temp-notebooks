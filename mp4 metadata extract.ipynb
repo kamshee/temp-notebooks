{
 "cells": [
  {
   "cell_type": "markdown",
   "metadata": {},
   "source": [
    "# Extract timestamp metadata from mp4\n",
    "Goal: extract utc timestamp for mp4 video, preferably for each frame\n",
    "- there must be a creation and modified datetime (for actual video creation, not just download)\n"
   ]
  },
  {
   "cell_type": "code",
   "execution_count": 113,
   "metadata": {},
   "outputs": [],
   "source": [
    "import os\n",
    "import pandas as pd\n",
    "import datetime as dt\n",
    "import re\n",
    "import datetime\n",
    "import calendar"
   ]
  },
  {
   "cell_type": "markdown",
   "metadata": {},
   "source": [
    "## Install exiftool on windows\n",
    "- Download windows executable from here:\n",
    "- https://sno.phy.queensu.ca/~phil/exiftool/\n",
    "- Just download and un-zip the archive then double-click on \"exiftool(-k).exe\" to read the application documentation, drag-and-drop files and folders to view meta information, or rename to \"exiftool.exe\" for command-line use. Runs on all versions of Windows."
   ]
  },
  {
   "cell_type": "markdown",
   "metadata": {},
   "source": [
    "Place exiftool program in a specified folder\n",
    "Run 'exiftool' in terminal\n",
    "Or drag and drop file into exiftool(-k) or whatever command you want"
   ]
  },
  {
   "cell_type": "code",
   "execution_count": null,
   "metadata": {},
   "outputs": [],
   "source": [
    "# in terminal, this will create a csv from the video\n",
    "exiftool -csv -createdate -modifydate MVI_0011.mp4 > out.csv"
   ]
  },
  {
   "cell_type": "code",
   "execution_count": null,
   "metadata": {},
   "outputs": [],
   "source": [
    "# to read multiple files just add the names\n",
    "exiftool -csv -createdate -modifydate MVI_0011.mp4 MVI_0012.mp4 > out.csv"
   ]
  },
  {
   "cell_type": "markdown",
   "metadata": {},
   "source": [
    "## Use terminal on each folder and extract mp4 metadata for the subject"
   ]
  },
  {
   "cell_type": "code",
   "execution_count": null,
   "metadata": {},
   "outputs": [],
   "source": [
    "# cisnwh8\n",
    "exiftool -csv -createdate -modifydate cisnwh8/cisnwh8_cycle1.MP4 cisnwh8/cisnwh8_cycle2.MP4 cisnwh8/cisnwh8_cycle3.MP4 cisnwh8/cisnwh8_cycle4.MP4 cisnwh8/cisnwh8_cycle5.MP4 cisnwh8/cisnwh8_cycle6.MP4 > cisnwh8.csv"
   ]
  },
  {
   "cell_type": "code",
   "execution_count": null,
   "metadata": {},
   "outputs": [],
   "source": [
    "# cisuabd4\n",
    "exiftool -csv -createdate -modifydate cisuabd4/cisuabd4_cycle1.MP4 cisuabd4/cisuabd4_cycle2.MP4 cisuabd4/cisuabd4_cycle3.MP4 cisuabd4/cisuabd4_cycle4.MP4 cisuabd4/cisuabd4_cycle5.MP4 cisuabd4/cisuabd4_cycle6.MP4 > cisuabd4.csv"
   ]
  },
  {
   "cell_type": "code",
   "execution_count": null,
   "metadata": {},
   "outputs": [],
   "source": [
    "# cisuabe5\n",
    "exiftool -csv -createdate -modifydate cisuabe5/cisuabe5_cycle1.MP4 cisuabe5/cisuabe5_cycle2.MP4 cisuabe5/cisuabe5_cycle3.MP4 cisuabe5/cisuabe5_cycle4.MP4 > cisuabe5.csv"
   ]
  },
  {
   "cell_type": "code",
   "execution_count": null,
   "metadata": {},
   "outputs": [],
   "source": [
    "# cisuabf6\n",
    "exiftool -csv -createdate -modifydate cisuabf6/cisuabf6_cycle1.MP4 cisuabf6/cisuabf6_cycle2.MP4 cisuabf6/cisuabf6_cycle3.MP4 cisuabf6/cisuabf6_cycle4.MP4  > cisuabf6.csv"
   ]
  },
  {
   "cell_type": "code",
   "execution_count": null,
   "metadata": {},
   "outputs": [],
   "source": [
    "# cisuabg7\n",
    "exiftool -csv -createdate -modifydate cisuabg7/cisuabg7_cycle1.MP4 cisuabg7/cisuabg7_cycle4.MP4 cisuabg7/cisuabg7_cycle6.MP4 > cisuabg7.csv"
   ]
  },
  {
   "cell_type": "code",
   "execution_count": null,
   "metadata": {},
   "outputs": [],
   "source": [
    "# cisnwe5\n",
    "exiftool -csv -createdate -modifydate cisnwe5/Cisnwe5_cycle4.MP4 > cisnwe5.csv"
   ]
  },
  {
   "cell_type": "code",
   "execution_count": null,
   "metadata": {},
   "outputs": [],
   "source": [
    "# ciscid4\n",
    "exiftool -csv -createdate -modifydate ciscid4/CISCID4_cycle2.mp4 ciscid4/CISCID4_cycle3.mp4 ciscid4/CISCID4_cycle4.mp4 ciscid4/CISCID4_cycle5.mp4 ciscid4/CISCID4_cycle6.mp4 > ciscid4.csv"
   ]
  },
  {
   "cell_type": "code",
   "execution_count": null,
   "metadata": {},
   "outputs": [],
   "source": [
    "# cisnwf6\n",
    "exiftool -csv -createdate -modifydate cisnwf6/Cisnwf6_cycle3.MP4 > cisnwf6.csv"
   ]
  },
  {
   "cell_type": "code",
   "execution_count": null,
   "metadata": {},
   "outputs": [],
   "source": [
    "# ciscih8\n",
    "exiftool -csv -createdate -modifydate ciscih8/CISCIH8_cycle1.mp4 ciscih8/CISCIH8_cycle2.mp4 ciscih8/CISCIH8_cycle3.mp4 ciscih8/CISCIH8_cycle4.mp4 ciscih8/CISCIH8_cycle5.mp4 ciscih8/CISCIH8_cycle6.mp4 > ciscih8.csv"
   ]
  },
  {
   "cell_type": "code",
   "execution_count": null,
   "metadata": {},
   "outputs": [],
   "source": [
    "# ciscij10\n",
    "exiftool -csv -createdate -modifydate ciscij10/CISCIJ10_cycle2.mp4 ciscij10/CISCIJ10_cycle3.mp4 ciscij10/CISCIJ10_cycle4.mp4 ciscij10/CISCIJ10_cycle5.mp4 ciscij10/CISCIJ10_cycle6.mp4 > ciscij10.csv"
   ]
  },
  {
   "cell_type": "code",
   "execution_count": null,
   "metadata": {},
   "outputs": [],
   "source": [
    "# cisrol12\n",
    "# this subject had mp4s for each activity\n",
    "exiftool -csv -createdate -modifydate cisrol12/cycle1_MVI_0032.mp4 cisrol12/cycle1_MVI_0033.mp4 cisrol12/cycle1_MVI_0034.mp4 cisrol12/cycle2_MVI_0035.mp4 cisrol12/cycle2_MVI_0036.mp4 cisrol12/cycle2_MVI_0037.mp4 cisrol12/cycle2_MVI_0038.mp4 cisrol12/cycle2_MVI_0039.mp4 cisrol12/cycle2_MVI_0042.mp4 cisrol12/cycle2_MVI_0043.mp4 cisrol12/cycle2_MVI_0044.mp4 cisrol12/cycle2_MVI_0045.mp4 cisrol12/cycle2_MVI_0046.mp4 cisrol12/cycle2_MVI_0047.mp4 cisrol12/cycle2_MVI_0048.mp4 cisrol12/cycle2_MVI_0049.mp4 cisrol12/cycle2_MVI_0050.mp4 cisrol12/cycle2_MVI_0051.mp4 cisrol12/cycle2_MVI_0052.mp4 cisrol12/cycle2_MVI_0053.mp4 cisrol12/cycle2_MVI_0054.mp4 cisrol12/cycle2_MVI_0055.mp4 cisrol12/cycle4_MVI_0075.mp4 cisrol12/cycle4_MVI_0076.mp4 cisrol12/cycle4_MVI_0078.mp4 cisrol12/cycle4_MVI_0079.mp4 cisrol12/cycle4_MVI_0080.mp4 cisrol12/cycle4_MVI_0081.mp4 cisrol12/cycle4_MVI_0082.mp4 cisrol12/cycle4_MVI_0083.mp4 cisrol12/cycle4_MVI_0084.mp4 cisrol12/cycle4_MVI_0085.mp4 cisrol12/cycle4_MVI_0086.mp4 cisrol12/cycle4_MVI_0089.mp4 cisrol12/cycle5_MVI_0095.mp4 cisrol12/cycle5_MVI_0096.mp4 cisrol12/cycle5_MVI_0097.mp4 cisrol12/cycle5_MVI_0098.mp4 cisrol12/cycle5_MVI_0100.mp4 cisrol12/cycle5_MVI_0101.mp4 cisrol12/cycle5_MVI_0102.mp4 cisrol12/cycle5_MVI_0106.mp4 > cisrol12.csv"
   ]
  },
  {
   "cell_type": "code",
   "execution_count": null,
   "metadata": {},
   "outputs": [],
   "source": [
    "#cisuabn14\n",
    "exiftool -csv -createdate -modifydate cisuabn14/cisuabn14_cycle2.MP4 cisuabn14/cisuabn14_cycle3.MP4 cisuabn14/cisuabn14_cycle4.MP4 cisuabn14/cisuabn14_cycle5.MP4 cisuabn14/cisuabn14_cycle6_part1.MP4 cisuabn14/cisuabn14_cycle6_part2.MP4 > cisuabn14.csv"
   ]
  },
  {
   "cell_type": "markdown",
   "metadata": {},
   "source": [
    "## Concatenate all csv files into one"
   ]
  },
  {
   "cell_type": "code",
   "execution_count": 125,
   "metadata": {},
   "outputs": [],
   "source": [
    "names = ['cisnwh8','cisuabd4','cisuabe5','cisuabf6','cisuabg7','cisnwe5','ciscid4','cisnwf6','ciscih8',\n",
    "         'ciscij10','cisrol12','cisuabn14']\n",
    "filenames = names.copy()\n",
    "path = r'X:\\CIS-PD Videos\\timestamp'\n",
    "for i, k in enumerate(names):\n",
    "    filenames[i] += '.csv'"
   ]
  },
  {
   "cell_type": "code",
   "execution_count": 127,
   "metadata": {},
   "outputs": [],
   "source": [
    "cisnwh8 = pd.read_csv(os.path.join(path,filenames[0]))\n",
    "cisuabd4 = pd.read_csv(os.path.join(path,filenames[1]))\n",
    "cisuabe5 = pd.read_csv(os.path.join(path,filenames[2]))\n",
    "cisuabf6 = pd.read_csv(os.path.join(path,filenames[3]))\n",
    "cisuabg7 = pd.read_csv(os.path.join(path,filenames[4]))\n",
    "cisnwe5 = pd.read_csv(os.path.join(path,filenames[5]))\n",
    "ciscid4 = pd.read_csv(os.path.join(path,filenames[6]))\n",
    "cisnwf6 = pd.read_csv(os.path.join(path,filenames[7]))\n",
    "ciscih8 = pd.read_csv(os.path.join(path,filenames[8]))\n",
    "ciscij10 = pd.read_csv(os.path.join(path,filenames[9]))\n",
    "cisrol12 = pd.read_csv(os.path.join(path,filenames[10]))\n",
    "cisuabn14 = pd.read_csv(os.path.join(path,filenames[11]))"
   ]
  },
  {
   "cell_type": "code",
   "execution_count": 128,
   "metadata": {},
   "outputs": [],
   "source": [
    "frames = [cisnwh8,cisuabd4,cisuabe5,cisuabf6,cisuabg7,cisnwe5,ciscid4,cisnwf6,ciscih8,\n",
    "         ciscij10,cisrol12,cisuabn14]\n",
    "result = pd.concat(frames,ignore_index=True)"
   ]
  },
  {
   "cell_type": "markdown",
   "metadata": {},
   "source": [
    "## Clean dataframe\n",
    "- separate subjid and video name into 2 columns"
   ]
  },
  {
   "cell_type": "code",
   "execution_count": 77,
   "metadata": {},
   "outputs": [],
   "source": [
    "def textsplitter(string):\n",
    "    \"\"\"Create a dataframe column called subjid by removing text before / character.\"\"\"\n",
    "    sep = '/'\n",
    "    new_string = string.split(sep, 1)[0]\n",
    "    return new_string\n",
    "\n",
    "def reversetextsplitter(string):\n",
    "    \"\"\"Create a dataframe column called subjid by removing text before / character.\"\"\"\n",
    "    sep = '/'\n",
    "    new_string = string.split(sep, 1)[-1]\n",
    "    return new_string"
   ]
  },
  {
   "cell_type": "code",
   "execution_count": 129,
   "metadata": {},
   "outputs": [],
   "source": [
    "# create subjid column\n",
    "result['subjid'] = result['SourceFile'].apply(textsplitter)\n",
    "\n",
    "# remove subjid and keep video name only\n",
    "result['SourceFile'] = result['SourceFile'].apply(reversetextsplitter)\n",
    "\n",
    "# change column name to specify video name\n",
    "result = result.rename(index=str, columns={'SourceFile':'videoname'})"
   ]
  },
  {
   "cell_type": "code",
   "execution_count": 130,
   "metadata": {},
   "outputs": [
    {
     "data": {
      "text/html": [
       "<div>\n",
       "<style scoped>\n",
       "    .dataframe tbody tr th:only-of-type {\n",
       "        vertical-align: middle;\n",
       "    }\n",
       "\n",
       "    .dataframe tbody tr th {\n",
       "        vertical-align: top;\n",
       "    }\n",
       "\n",
       "    .dataframe thead th {\n",
       "        text-align: right;\n",
       "    }\n",
       "</style>\n",
       "<table border=\"1\" class=\"dataframe\">\n",
       "  <thead>\n",
       "    <tr style=\"text-align: right;\">\n",
       "      <th></th>\n",
       "      <th>videoname</th>\n",
       "      <th>CreateDate</th>\n",
       "      <th>ModifyDate</th>\n",
       "      <th>subjid</th>\n",
       "    </tr>\n",
       "  </thead>\n",
       "  <tbody>\n",
       "    <tr>\n",
       "      <th>0</th>\n",
       "      <td>cisnwh8_cycle1.MP4</td>\n",
       "      <td>2017:08:02 13:48:19</td>\n",
       "      <td>2017:08:02 13:48:19</td>\n",
       "      <td>cisnwh8</td>\n",
       "    </tr>\n",
       "    <tr>\n",
       "      <th>1</th>\n",
       "      <td>cisnwh8_cycle2.MP4</td>\n",
       "      <td>2017:08:02 14:31:51</td>\n",
       "      <td>2017:08:02 14:31:51</td>\n",
       "      <td>cisnwh8</td>\n",
       "    </tr>\n",
       "    <tr>\n",
       "      <th>2</th>\n",
       "      <td>cisnwh8_cycle3.MP4</td>\n",
       "      <td>2017:08:02 15:05:38</td>\n",
       "      <td>2017:08:02 15:05:38</td>\n",
       "      <td>cisnwh8</td>\n",
       "    </tr>\n",
       "    <tr>\n",
       "      <th>3</th>\n",
       "      <td>cisnwh8_cycle4.MP4</td>\n",
       "      <td>2017:08:02 15:33:43</td>\n",
       "      <td>2017:08:02 15:33:43</td>\n",
       "      <td>cisnwh8</td>\n",
       "    </tr>\n",
       "    <tr>\n",
       "      <th>4</th>\n",
       "      <td>cisnwh8_cycle5.MP4</td>\n",
       "      <td>2017:08:02 15:50:10</td>\n",
       "      <td>2017:08:02 15:50:10</td>\n",
       "      <td>cisnwh8</td>\n",
       "    </tr>\n",
       "  </tbody>\n",
       "</table>\n",
       "</div>"
      ],
      "text/plain": [
       "            videoname           CreateDate           ModifyDate   subjid\n",
       "0  cisnwh8_cycle1.MP4  2017:08:02 13:48:19  2017:08:02 13:48:19  cisnwh8\n",
       "1  cisnwh8_cycle2.MP4  2017:08:02 14:31:51  2017:08:02 14:31:51  cisnwh8\n",
       "2  cisnwh8_cycle3.MP4  2017:08:02 15:05:38  2017:08:02 15:05:38  cisnwh8\n",
       "3  cisnwh8_cycle4.MP4  2017:08:02 15:33:43  2017:08:02 15:33:43  cisnwh8\n",
       "4  cisnwh8_cycle5.MP4  2017:08:02 15:50:10  2017:08:02 15:50:10  cisnwh8"
      ]
     },
     "execution_count": 130,
     "metadata": {},
     "output_type": "execute_result"
    }
   ],
   "source": [
    "result.head(5)"
   ]
  },
  {
   "cell_type": "markdown",
   "metadata": {},
   "source": [
    "## Change create and modify date columns from type str to datetime then utc"
   ]
  },
  {
   "cell_type": "code",
   "execution_count": 131,
   "metadata": {},
   "outputs": [
    {
     "data": {
      "text/plain": [
       "str"
      ]
     },
     "execution_count": 131,
     "metadata": {},
     "output_type": "execute_result"
    }
   ],
   "source": [
    "type(result['CreateDate'][0])"
   ]
  },
  {
   "cell_type": "code",
   "execution_count": 132,
   "metadata": {},
   "outputs": [
    {
     "data": {
      "text/plain": [
       "'2017:08:02 13:48:19'"
      ]
     },
     "execution_count": 132,
     "metadata": {},
     "output_type": "execute_result"
    }
   ],
   "source": [
    "result['CreateDate'][0]"
   ]
  },
  {
   "cell_type": "code",
   "execution_count": 133,
   "metadata": {},
   "outputs": [
    {
     "name": "stdout",
     "output_type": "stream",
     "text": [
      "1467542136000\n"
     ]
    }
   ],
   "source": [
    "# test it out\n",
    "\n",
    "# Convert date time string to UTC\n",
    "datetime1 = datetime.datetime.strptime('2016:07:03 10:35:36', \"%Y:%m:%d %H:%M:%S\")\n",
    "timeInSeconds = calendar.timegm(datetime1.utctimetuple())\n",
    "timeInMillis = timeInSeconds * 1000\n",
    "print(timeInMillis)"
   ]
  },
  {
   "cell_type": "code",
   "execution_count": 116,
   "metadata": {},
   "outputs": [],
   "source": [
    "def str_to_utc(string):\n",
    "    datetime1 = datetime.datetime.strptime(string, \"%Y:%m:%d %H:%M:%S\")\n",
    "    timeInSeconds = calendar.timegm(datetime1.utctimetuple())\n",
    "    timeInMillis = timeInSeconds * 1000\n",
    "    return timeInMillis"
   ]
  },
  {
   "cell_type": "code",
   "execution_count": 134,
   "metadata": {},
   "outputs": [],
   "source": [
    "# Add column: convert CreateDate to UTC\n",
    "result['UTC_create_date'] = result['CreateDate'].apply(str_to_utc)\n",
    "# Add column: convert ModifyDate to UTC\n",
    "result['UTC_modify_date'] = result['ModifyDate'].apply(str_to_utc)"
   ]
  },
  {
   "cell_type": "code",
   "execution_count": 135,
   "metadata": {},
   "outputs": [],
   "source": [
    "# save 'result' dataframe as .csv file\n",
    "path = r'X:\\CIS-PD Videos\\timestamp'\n",
    "fname = 'video_utc_timestamp.csv'\n",
    "filename = os.path.join(path, fname)\n",
    "with open(filename,'wb') as f:\n",
    "    result.to_csv(filename, sep=',')"
   ]
  },
  {
   "cell_type": "code",
   "execution_count": 136,
   "metadata": {
    "scrolled": true
   },
   "outputs": [
    {
     "data": {
      "text/html": [
       "<div>\n",
       "<style scoped>\n",
       "    .dataframe tbody tr th:only-of-type {\n",
       "        vertical-align: middle;\n",
       "    }\n",
       "\n",
       "    .dataframe tbody tr th {\n",
       "        vertical-align: top;\n",
       "    }\n",
       "\n",
       "    .dataframe thead th {\n",
       "        text-align: right;\n",
       "    }\n",
       "</style>\n",
       "<table border=\"1\" class=\"dataframe\">\n",
       "  <thead>\n",
       "    <tr style=\"text-align: right;\">\n",
       "      <th></th>\n",
       "      <th>videoname</th>\n",
       "      <th>CreateDate</th>\n",
       "      <th>ModifyDate</th>\n",
       "      <th>subjid</th>\n",
       "      <th>UTC_create_date</th>\n",
       "      <th>UTC_modify_date</th>\n",
       "    </tr>\n",
       "  </thead>\n",
       "  <tbody>\n",
       "    <tr>\n",
       "      <th>0</th>\n",
       "      <td>cisnwh8_cycle1.MP4</td>\n",
       "      <td>2017:08:02 13:48:19</td>\n",
       "      <td>2017:08:02 13:48:19</td>\n",
       "      <td>cisnwh8</td>\n",
       "      <td>1501681699000</td>\n",
       "      <td>1501681699000</td>\n",
       "    </tr>\n",
       "    <tr>\n",
       "      <th>1</th>\n",
       "      <td>cisnwh8_cycle2.MP4</td>\n",
       "      <td>2017:08:02 14:31:51</td>\n",
       "      <td>2017:08:02 14:31:51</td>\n",
       "      <td>cisnwh8</td>\n",
       "      <td>1501684311000</td>\n",
       "      <td>1501684311000</td>\n",
       "    </tr>\n",
       "  </tbody>\n",
       "</table>\n",
       "</div>"
      ],
      "text/plain": [
       "            videoname           CreateDate           ModifyDate   subjid  \\\n",
       "0  cisnwh8_cycle1.MP4  2017:08:02 13:48:19  2017:08:02 13:48:19  cisnwh8   \n",
       "1  cisnwh8_cycle2.MP4  2017:08:02 14:31:51  2017:08:02 14:31:51  cisnwh8   \n",
       "\n",
       "   UTC_create_date  UTC_modify_date  \n",
       "0    1501681699000    1501681699000  \n",
       "1    1501684311000    1501684311000  "
      ]
     },
     "execution_count": 136,
     "metadata": {},
     "output_type": "execute_result"
    }
   ],
   "source": [
    "result.head(2)"
   ]
  },
  {
   "cell_type": "markdown",
   "metadata": {},
   "source": [
    "## Convert start/stop frame number to UTC for all activities"
   ]
  },
  {
   "cell_type": "markdown",
   "metadata": {},
   "source": [
    "- Each subject has a folder\n",
    "- Use the 'sec_annotation.csv' file and convert start/stop frames to UTC\n",
    "- fps = 29.97 aka Video Frame Rate\n",
    "- 33.367 milliseconds per frame\n",
    "- subj videos that should have multiple modify dates: ciscid4, ciscih8, ciccij10"
   ]
  },
  {
   "cell_type": "code",
   "execution_count": null,
   "metadata": {},
   "outputs": [],
   "source": [
    "# add sec_annotation.csv for cisnwh8"
   ]
  },
  {
   "cell_type": "markdown",
   "metadata": {},
   "source": [
    "## Modify Nick's GUI to update start/end times to label data"
   ]
  },
  {
   "cell_type": "code",
   "execution_count": null,
   "metadata": {},
   "outputs": [],
   "source": []
  },
  {
   "cell_type": "code",
   "execution_count": null,
   "metadata": {},
   "outputs": [],
   "source": []
  },
  {
   "cell_type": "code",
   "execution_count": null,
   "metadata": {},
   "outputs": [],
   "source": []
  },
  {
   "cell_type": "code",
   "execution_count": null,
   "metadata": {},
   "outputs": [],
   "source": []
  },
  {
   "cell_type": "code",
   "execution_count": null,
   "metadata": {},
   "outputs": [],
   "source": []
  }
 ],
 "metadata": {
  "kernelspec": {
   "display_name": "Python 3",
   "language": "python",
   "name": "python3"
  },
  "language_info": {
   "codemirror_mode": {
    "name": "ipython",
    "version": 3
   },
   "file_extension": ".py",
   "mimetype": "text/x-python",
   "name": "python",
   "nbconvert_exporter": "python",
   "pygments_lexer": "ipython3",
   "version": "3.6.5"
  }
 },
 "nbformat": 4,
 "nbformat_minor": 2
}
