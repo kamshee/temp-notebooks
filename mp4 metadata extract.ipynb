{
 "cells": [
  {
   "cell_type": "markdown",
   "metadata": {},
   "source": [
    "Goal: extract utc timestamp for mp4 video, preferably for each frame\n",
    "- there must be a creation and modified datetime (for actual video creation, not just download)\n"
   ]
  },
  {
   "cell_type": "code",
   "execution_count": 3,
   "metadata": {},
   "outputs": [
    {
     "name": "stdout",
     "output_type": "stream",
     "text": [
      "Solving environment: failed\n",
      "\n",
      "PackagesNotFoundError: The following packages are not available from current channels:\n",
      "\n",
      "  - exiftool\n",
      "\n",
      "Current channels:\n",
      "\n",
      "  - https://repo.anaconda.com/pkgs/main/osx-64\n",
      "  - https://repo.anaconda.com/pkgs/main/noarch\n",
      "  - https://repo.anaconda.com/pkgs/free/osx-64\n",
      "  - https://repo.anaconda.com/pkgs/free/noarch\n",
      "  - https://repo.anaconda.com/pkgs/r/osx-64\n",
      "  - https://repo.anaconda.com/pkgs/r/noarch\n",
      "  - https://repo.anaconda.com/pkgs/pro/osx-64\n",
      "  - https://repo.anaconda.com/pkgs/pro/noarch\n",
      "\n",
      "To search for alternate channels that may provide the conda package you're\n",
      "looking for, navigate to\n",
      "\n",
      "    https://anaconda.org\n",
      "\n",
      "and use the search bar at the top of the page.\n",
      "\n",
      "\n"
     ]
    }
   ],
   "source": [
    "# install any packages on jupyter using conda\n",
    "# example: numpy\n",
    "#import sys\n",
    "#!conda install --yes --prefix {sys.prefix} numpy\n",
    "\n",
    "import sys\n",
    "!conda install --yes --prefix {sys.prefix} exiftool"
   ]
  },
  {
   "cell_type": "code",
   "execution_count": null,
   "metadata": {},
   "outputs": [],
   "source": [
    "import os"
   ]
  },
  {
   "cell_type": "code",
   "execution_count": null,
   "metadata": {},
   "outputs": [],
   "source": [
    "filename = 'sample.MP4'"
   ]
  },
  {
   "cell_type": "code",
   "execution_count": null,
   "metadata": {},
   "outputs": [],
   "source": [
    "# MediaInfo solution\n",
    "import os\n",
    "\n",
    "os.chdir(os.environ[\"PROGRAMFILES\"] + \"\\\\mediainfo\")  # The folder where you installed MediaInfo\n",
    "from MediaInfoDLL3 import MediaInfo, Stream\n",
    "\n",
    "MI = MediaInfo()\n",
    "\n",
    "def get_mediainfo_from(directory):\n",
    "  for file in os.listdir(directory):\n",
    "    MI.Open(directory + file)\n",
    "    file_extension = MI.Get(Stream.General, 0, \"FileExtension\")\n",
    "    duration_string = MI.Get(Stream.Video, 0, \"Duration/String3\")  # Length. \"Duration\" for ms\n",
    "    fps_string = MI.Get(Stream.Video, 0, \"FrameRate\")\n",
    "    width_string = MI.Get(Stream.Video, 0, \"Width\")\n",
    "    height_string = MI.Get(Stream.Video, 0, \"Height\")\n",
    "    aspect_ratio_string = MI.Get(Stream.Video, 0, \"DisplayAspectRatio\")\n",
    "    frames_string = MI.Get(Stream.Video, 0, \"FrameCount\")\n",
    "    local_created_date_string = MI.Get(Stream.General, 0, \"File_Created_Date_Local\")  # Date of copying\n",
    "    local_modified_date_string = MI.Get(Stream.General, 0, \"File_Modified_Date_Local\")  # Date of filming\n",
    "\n",
    "    if file_extension == \"MP4\":\n",
    "      #print(\"Extension: \"+file_extension)\n",
    "      print(\"Length: \"+duration_string)\n",
    "      print(\"FPS: \"+fps_string)\n",
    "      #print(\"Width: \"+width_string)\n",
    "      #print(\"Height: \"+height_string)\n",
    "      #print(\"Ratio: \"+aspect_ratio_string)\n",
    "      print(\"Frame total: \"+frames_string)\n",
    "      print(\"Created Date: \"+local_created_date_string)\n",
    "      print(\"Modified Date: \"+local_modified_date_string)\n",
    "\n",
    "    else:\n",
    "      print(\"{} ain't no MP4 file!\".format(file))\n",
    "\n",
    "    MI.Close()\n",
    "\n",
    "get_mediainfo_from(\"C:\\\\Users\\\\Nick\\\\Desktop\\\\test\\\\\")  # The folder with video files\n",
    "\n",
    "# print(MI.Option(\"Info_Parameters\"))  # Show list of available metadata tags"
   ]
  },
  {
   "cell_type": "markdown",
   "metadata": {},
   "source": [
    "# exiftool solution\n",
    "User terminal"
   ]
  },
  {
   "cell_type": "code",
   "execution_count": null,
   "metadata": {},
   "outputs": [],
   "source": [
    "#Install package:\n",
    "conda install -c au-eoed exiftool\n",
    "## didn't work"
   ]
  },
  {
   "cell_type": "code",
   "execution_count": 7,
   "metadata": {},
   "outputs": [
    {
     "name": "stdout",
     "output_type": "stream",
     "text": [
      "Solving environment: done\n",
      "\n",
      "## Package Plan ##\n",
      "\n",
      "  environment location: /anaconda3\n",
      "\n",
      "  added / updated specs: \n",
      "    - exiftool\n",
      "\n",
      "\n",
      "The following packages will be downloaded:\n",
      "\n",
      "    package                    |            build\n",
      "    ---------------------------|-----------------\n",
      "    certifi-2018.4.16          |           py36_0         142 KB\n",
      "    anaconda-custom            |   py36ha4fed55_0           6 KB\n",
      "    ------------------------------------------------------------\n",
      "                                           Total:         148 KB\n",
      "\n",
      "The following NEW packages will be INSTALLED:\n",
      "\n",
      "    exiftool:        10.87-pl526_1         au-eoed\n",
      "    perl:            5.26.2-h4e221da_0            \n",
      "\n",
      "The following packages will be UPDATED:\n",
      "\n",
      "    anaconda:        5.1.0-py36_2                  --> custom-py36ha4fed55_0\n",
      "    ca-certificates: 2017.08.26-ha1e5d58_0         --> 2018.03.07-0         \n",
      "    certifi:         2018.1.18-py36_0              --> 2018.4.16-py36_0     \n",
      "    openssl:         1.0.2n-hdbc3d79_0             --> 1.0.2o-h26aff7b_0    \n",
      "\n",
      "\n",
      "Downloading and Extracting Packages\n",
      "certifi-2018.4.16    |  142 KB | ####################################### | 100% \n",
      "anaconda-custom      |    6 KB | ####################################### | 100% \n",
      "Preparing transaction: done\n",
      "Verifying transaction: done\n",
      "Executing transaction: done\n"
     ]
    }
   ],
   "source": [
    "#install exiftool from Jupyter\n",
    "import sys\n",
    "!conda install --yes --prefix {sys.prefix} -c au-eoed exiftool"
   ]
  },
  {
   "cell_type": "code",
   "execution_count": 12,
   "metadata": {},
   "outputs": [
    {
     "ename": "ModuleNotFoundError",
     "evalue": "No module named 'exiftool'",
     "output_type": "error",
     "traceback": [
      "\u001b[0;31m---------------------------------------------------------------------------\u001b[0m",
      "\u001b[0;31mModuleNotFoundError\u001b[0m                       Traceback (most recent call last)",
      "\u001b[0;32m<ipython-input-12-d099cf992744>\u001b[0m in \u001b[0;36m<module>\u001b[0;34m()\u001b[0m\n\u001b[0;32m----> 1\u001b[0;31m \u001b[0;32mimport\u001b[0m \u001b[0mexiftool\u001b[0m\u001b[0;34m\u001b[0m\u001b[0m\n\u001b[0m",
      "\u001b[0;31mModuleNotFoundError\u001b[0m: No module named 'exiftool'"
     ]
    }
   ],
   "source": [
    "import exiftool"
   ]
  },
  {
   "cell_type": "code",
   "execution_count": 10,
   "metadata": {
    "scrolled": true
   },
   "outputs": [
    {
     "ename": "SyntaxError",
     "evalue": "invalid syntax (<ipython-input-10-3b43f8e863d4>, line 1)",
     "output_type": "error",
     "traceback": [
      "\u001b[0;36m  File \u001b[0;32m\"<ipython-input-10-3b43f8e863d4>\"\u001b[0;36m, line \u001b[0;32m1\u001b[0m\n\u001b[0;31m    exiftool -time:all -a -G0:1 -s sample.mp4\u001b[0m\n\u001b[0m                             ^\u001b[0m\n\u001b[0;31mSyntaxError\u001b[0m\u001b[0;31m:\u001b[0m invalid syntax\n"
     ]
    }
   ],
   "source": [
    "exiftool -time:all -a -G0:1 -s sample.mp4"
   ]
  },
  {
   "cell_type": "code",
   "execution_count": null,
   "metadata": {},
   "outputs": [],
   "source": []
  }
 ],
 "metadata": {
  "kernelspec": {
   "display_name": "Python 3",
   "language": "python",
   "name": "python3"
  },
  "language_info": {
   "codemirror_mode": {
    "name": "ipython",
    "version": 3
   },
   "file_extension": ".py",
   "mimetype": "text/x-python",
   "name": "python",
   "nbconvert_exporter": "python",
   "pygments_lexer": "ipython3",
   "version": "3.6.4"
  }
 },
 "nbformat": 4,
 "nbformat_minor": 2
}
